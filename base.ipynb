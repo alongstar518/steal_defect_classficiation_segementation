{
  "nbformat": 4,
  "nbformat_minor": 0,
  "metadata": {
    "orig_nbformat": 2,
    "file_extension": ".py",
    "mimetype": "text/x-python",
    "name": "python",
    "npconvert_exporter": "python",
    "pygments_lexer": "ipython3",
    "version": 3,
    "colab": {
      "name": "base.ipynb",
      "provenance": [],
      "include_colab_link": true
    },
    "kernelspec": {
      "name": "python3",
      "display_name": "Python 3"
    },
    "accelerator": "GPU"
  },
  "cells": [
    {
      "cell_type": "markdown",
      "metadata": {
        "id": "view-in-github",
        "colab_type": "text"
      },
      "source": [
        "<a href=\"https://colab.research.google.com/github/alongstar518/cs221_finalproject/blob/master/base.ipynb\" target=\"_parent\"><img src=\"https://colab.research.google.com/assets/colab-badge.svg\" alt=\"Open In Colab\"/></a>"
      ]
    },
    {
      "cell_type": "markdown",
      "metadata": {
        "id": "jrE-XVcM44qr",
        "colab_type": "text"
      },
      "source": [
        "### CS221 Final Project: Steel Defect Detection \n"
      ]
    },
    {
      "cell_type": "markdown",
      "metadata": {
        "id": "w-EvsLVbSHCZ",
        "colab_type": "text"
      },
      "source": [
        "### install packages"
      ]
    },
    {
      "cell_type": "code",
      "metadata": {
        "id": "OC82MEAsSMyt",
        "colab_type": "code",
        "colab": {}
      },
      "source": [
        "# No for now"
      ],
      "execution_count": 0,
      "outputs": []
    },
    {
      "cell_type": "markdown",
      "metadata": {
        "id": "E88AO-Gw44qu",
        "colab_type": "text"
      },
      "source": [
        "### Import necessary libraries"
      ]
    },
    {
      "cell_type": "code",
      "metadata": {
        "_cell_guid": "79c7e3d0-c299-4dcb-8224-4455121ee9b0",
        "_uuid": "d629ff2d2480ee46fbb7e2d37f6b5fab8052498a",
        "id": "goMfOUNL44qv",
        "colab_type": "code",
        "colab": {}
      },
      "source": [
        "import numpy as np\n",
        "import matplotlib.pyplot as plt\n",
        "import pandas as pd\n",
        "import os\n",
        "from tqdm import tqdm_notebook\n",
        "import cv2\n",
        "from PIL import Image\n",
        "import shutil\n",
        "\n",
        "import torch\n",
        "import torch.nn as nn\n",
        "import torch.optim as optim \n",
        "import torchvision\n",
        "from torchvision import models\n",
        "from torch.utils.data import DataLoader, Dataset\n",
        "import torch.utils.data as utils\n",
        "from torchvision import transforms\n",
        "import torch.nn.functional as F\n",
        "import tensorboard\n",
        "from tensorboard import notebook\n",
        "from torch.utils.tensorboard import SummaryWriter"
      ],
      "execution_count": 0,
      "outputs": []
    },
    {
      "cell_type": "markdown",
      "metadata": {
        "id": "xZEX96Lh7xEg",
        "colab_type": "text"
      },
      "source": [
        "### Print torch and cuda information"
      ]
    },
    {
      "cell_type": "code",
      "metadata": {
        "id": "o6yTwds977TR",
        "colab_type": "code",
        "outputId": "a6075e64-3d67-4e49-8cb6-2ede545569b1",
        "colab": {
          "base_uri": "https://localhost:8080/",
          "height": 85
        }
      },
      "source": [
        "print(\"torch version: {}\".format(torch.__version__))\n",
        "print(\"Cuda device avaliablity: {}\".format(torch.cuda.is_available()))\n",
        "print(\"Cuda device name: {}\".format(torch.cuda.get_device_name()))\n",
        "print(\"Cuda device Capilibility: {}\".format(\n",
        "    torch.cuda.get_device_capability(device=None)\n",
        "  )\n",
        ")"
      ],
      "execution_count": 0,
      "outputs": [
        {
          "output_type": "stream",
          "text": [
            "torch version: 1.3.0+cu100\n",
            "Cuda device avaliablity: True\n",
            "Cuda device name: Tesla K80\n",
            "Cuda device Capilibility: (3, 7)\n"
          ],
          "name": "stdout"
        }
      ]
    },
    {
      "cell_type": "markdown",
      "metadata": {
        "id": "602qzAwtTEjx",
        "colab_type": "text"
      },
      "source": [
        "### configs\n"
      ]
    },
    {
      "cell_type": "markdown",
      "metadata": {
        "id": "C5LQpbyYxsBK",
        "colab_type": "text"
      },
      "source": [
        "basic config:"
      ]
    },
    {
      "cell_type": "code",
      "metadata": {
        "id": "DEoG4ebyTG3i",
        "colab_type": "code",
        "colab": {}
      },
      "source": [
        "reload_data = True\n",
        "clear_tensor_board_history = True\n",
        "reload_last_model = False\n",
        "path = \"your local path here if you do not run on colab\"\n",
        "data_path = \"/content/drive/My Drive/share\" # path to data on google drive\n",
        "model_save_path = \"/content/drive/My Drive/share/best.pth\"\n",
        "\n",
        "train_data_percent = 0.99\n",
        "eval_data_percent = 0.01\n",
        "test_data_percent = 0.2 # used only when we don`t have any eval set."
      ],
      "execution_count": 0,
      "outputs": []
    },
    {
      "cell_type": "markdown",
      "metadata": {
        "id": "0_XzUBIC5U-s",
        "colab_type": "text"
      },
      "source": [
        "hyperparamters:"
      ]
    },
    {
      "cell_type": "code",
      "metadata": {
        "id": "bEzjFzXJ5YDb",
        "colab_type": "code",
        "colab": {}
      },
      "source": [
        "batch_size = 32\n",
        "total_epochs = 1\n",
        "weight_decay=1e-4 \n",
        "lr = 0.001\n",
        "momentum=0.9\n",
        "eval_interval = 1000"
      ],
      "execution_count": 0,
      "outputs": []
    },
    {
      "cell_type": "markdown",
      "metadata": {
        "id": "nNrvGJrZ44qx",
        "colab_type": "text"
      },
      "source": [
        "### download data"
      ]
    },
    {
      "cell_type": "code",
      "metadata": {
        "id": "YirRY6xP44qx",
        "colab_type": "code",
        "outputId": "7432384c-f351-4128-8fd4-b8761d2b9812",
        "colab": {
          "base_uri": "https://localhost:8080/",
          "height": 123
        }
      },
      "source": [
        "try:\n",
        "  # delay import so we can run on local machine\n",
        "  # this also check if run it on google drive or not . if it is not, it will \n",
        "  # avoiding runing from google colab, but running from local.\n",
        "  from google.colab import drive \n",
        "  data_zip_path = os.path.join(data_path, \"severstal-steel-defect-detection.zip\")\n",
        "  data_zip_path_dst = \"/content/severstal-steel-defect-detection.zip\"\n",
        "  path = \"/content/data/\"\n",
        "  res18_path = os.path.join(data_path, \"resnet18\")\n",
        "  res18_path_dst = os.path.join(path, \"resnet18\")\n",
        "  # you may find res18 folder here:\n",
        "  # \"https://drive.google.com/drive/folders/1KFKRraGbNUICgkgSabzrfHeJzYc5YE0W?usp=sharing\"\n",
        "\n",
        "  if reload_data:\n",
        "    print(\"login to google drive\")\n",
        "    drive.mount('/content/drive')\n",
        "    print(\"Copy res18 folder: \")\n",
        "    shutil.copytree(res18_path, res18_path_dst)\n",
        "\n",
        "    print(\"Copy raw data from {} to {}\".format(data_zip_path, data_zip_path_dst))\n",
        "    shutil.copy(data_zip_path, \"/content\")\n",
        "\n",
        "    print(\"unzip raw data...\")\n",
        "    os.system(\"unzip {} -d {}\".format(data_zip_path_dst, path))\n",
        "    \n",
        "    print(\"give back missing permissions for unzipping\")\n",
        "    os.system(\n",
        "      \"chmod +wrx /content/data/train_images.zip /content/data/test_images.zip\"\n",
        "    )\n",
        "    \n",
        "    print(\"unzipping data...\")\n",
        "    os.system(\"unzip {} -d {}\".format(\n",
        "        os.path.join(path,\"train_images.zip\"), \n",
        "        os.path.join(path,\"train_images\")\n",
        "        )\n",
        "    )\n",
        "    os.system(\"unzip {} -d {}\".format(\n",
        "        os.path.join(path,\"test_images.zip\"), \n",
        "        os.path.join(path,\"test_images\")\n",
        "      )\n",
        "    )\n",
        "    on_colab = True\n",
        "except:\n",
        "  on_colab = False\n",
        "\n",
        "!ls /content/data"
      ],
      "execution_count": 0,
      "outputs": [
        {
          "output_type": "stream",
          "text": [
            "login to google drive\n"
          ],
          "name": "stdout"
        }
      ]
    },
    {
      "cell_type": "code",
      "metadata": {
        "id": "laZ_V0oy44q2",
        "colab_type": "code",
        "colab": {}
      },
      "source": [
        "tr = pd.read_csv(os.path.join(path, 'train.csv'))\n",
        "print(len(tr))\n",
        "tr.head()"
      ],
      "execution_count": 0,
      "outputs": []
    },
    {
      "cell_type": "code",
      "metadata": {
        "id": "eDJzvU5e44q4",
        "colab_type": "code",
        "colab": {}
      },
      "source": [
        "df_train = tr[tr['EncodedPixels'].notnull()].reset_index(drop=True)\n",
        "print(len(df_train))\n",
        "df_train.head()"
      ],
      "execution_count": 0,
      "outputs": []
    },
    {
      "cell_type": "markdown",
      "metadata": {
        "id": "18qvJkxP44q6",
        "colab_type": "text"
      },
      "source": [
        "### Masks"
      ]
    },
    {
      "cell_type": "code",
      "metadata": {
        "id": "o0Q2nyma44q7",
        "colab_type": "code",
        "colab": {}
      },
      "source": [
        "# Decod\n",
        "def rle2mask(rle, imgshape):\n",
        "    width = imgshape[0]\n",
        "    height= imgshape[1]\n",
        "    \n",
        "    mask= np.zeros( width*height ).astype(np.uint8)\n",
        "    \n",
        "    array = np.asarray([int(x) for x in rle.split()])\n",
        "    starts = array[0::2]\n",
        "    lengths = array[1::2]\n",
        "\n",
        "    current_position = 0\n",
        "    for index, start in enumerate(starts):\n",
        "        mask[int(start):int(start+lengths[index])] = 1\n",
        "        current_position += lengths[index]\n",
        "        \n",
        "    return np.flipud( np.rot90( mask.reshape(height, width), k=1 ) )\n",
        "\n",
        "# Encode\n",
        "def mask2rle(img):\n",
        "    tmp = np.rot90( np.flipud( img ), k=3 )\n",
        "    rle = []\n",
        "    lastColor = 0;\n",
        "    startpos = 0\n",
        "    endpos = 0\n",
        "\n",
        "    tmp = tmp.reshape(-1,1)   \n",
        "    for i in range( len(tmp) ):\n",
        "        if (lastColor==0) and tmp[i]>0:\n",
        "            startpos = i\n",
        "            lastColor = 1\n",
        "        elif (lastColor==1)and(tmp[i]==0):\n",
        "            endpos = i-1\n",
        "            lastColor = 0\n",
        "            rle.append( str(startpos)+' '+str(endpos-startpos+1) )\n",
        "    return \" \".join(rle)"
      ],
      "execution_count": 0,
      "outputs": []
    },
    {
      "cell_type": "markdown",
      "metadata": {
        "id": "aXX07J1x44q8",
        "colab_type": "text"
      },
      "source": [
        "### Display some images"
      ]
    },
    {
      "cell_type": "code",
      "metadata": {
        "id": "xxlfGPZ_44q9",
        "colab_type": "code",
        "colab": {}
      },
      "source": [
        "columns = 1\n",
        "rows = 4\n",
        "fig = plt.figure(figsize=(20,columns*rows+6))\n",
        "for i in range(1,columns*rows+1):\n",
        "    fn = df_train['ImageId_ClassId'].str[:-2].iloc[i]\n",
        "    fig.add_subplot(rows, columns, i).set_title(fn)\n",
        "    img = cv2.imread(os.path.join(path, 'train_images/', fn))\n",
        "    img = cv2.cvtColor(img, cv2.COLOR_BGR2RGB)\n",
        "    mask = rle2mask(df_train['EncodedPixels'].iloc[i], (256, 1600))\n",
        "    img[mask==1,0] = 255\n",
        "    plt.imshow(img)\n",
        "plt.show()"
      ],
      "execution_count": 0,
      "outputs": []
    },
    {
      "cell_type": "markdown",
      "metadata": {
        "id": "79LOZzCp44q_",
        "colab_type": "text"
      },
      "source": [
        "### Create train Dataset and DataLoader"
      ]
    },
    {
      "cell_type": "code",
      "metadata": {
        "id": "7jPfKaHI44q_",
        "colab_type": "code",
        "colab": {}
      },
      "source": [
        "class ImageData(Dataset):\n",
        "    def __init__(self, df, transform, subset=\"train\"):\n",
        "        super().__init__()\n",
        "        self.df = df\n",
        "        self.transform = transform\n",
        "        self.subset = subset\n",
        "        \n",
        "        if self.subset == \"train\":\n",
        "            self.data_path = path + 'train_images/'\n",
        "        elif self.subset == \"test\":\n",
        "            self.data_path = path + 'test_images/'\n",
        "\n",
        "    def __len__(self):\n",
        "        return len(self.df)\n",
        "    \n",
        "    def __getitem__(self, index):                      \n",
        "        fn = self.df['ImageId_ClassId'].iloc[index].split('_')[0]         \n",
        "        img = Image.open(self.data_path + fn)\n",
        "        img = self.transform(img)\n",
        "\n",
        "        if self.subset == 'train': \n",
        "            mask = rle2mask(self.df['EncodedPixels'].iloc[index], (256, 1600))\n",
        "            mask = transforms.ToPILImage()(mask)            \n",
        "            mask = self.transform(mask)\n",
        "            return img, mask\n",
        "        else: \n",
        "            mask = None\n",
        "            return img       "
      ],
      "execution_count": 0,
      "outputs": []
    },
    {
      "cell_type": "code",
      "metadata": {
        "id": "WOmNaEtU44rB",
        "colab_type": "code",
        "colab": {}
      },
      "source": [
        "data_transf = transforms.Compose(\n",
        "    [\n",
        "     transforms.Resize((256, 256)),\n",
        "     transforms.ToTensor()\n",
        "    ]\n",
        ")\n",
        "\n",
        "train_indx = int(len(df_train) * train_data_percent)\n",
        "df_tr = df_train[0: train_indx]\n",
        "\n",
        "eval_indx = int(len(df_train) * eval_data_percent) + train_indx\n",
        "df_eval = df_train[train_indx: eval_indx]\n",
        "\n",
        "df_test = df_train[eval_indx:]\n",
        "\n",
        "train_data = ImageData(df = df_tr, transform = data_transf)\n",
        "train_loader = DataLoader(dataset = train_data, batch_size=batch_size)\n",
        "\n",
        "eval_data = ImageData(df = df_eval, transform = data_transf)\n",
        "eval_loader = DataLoader(dataset = eval_data)\n",
        "\n",
        "test_data = ImageData(df = df_test, transform = data_transf)\n",
        "test_data = DataLoader(dataset = test_data)"
      ],
      "execution_count": 0,
      "outputs": []
    },
    {
      "cell_type": "markdown",
      "metadata": {
        "id": "LUGHi1Cg44rD",
        "colab_type": "text"
      },
      "source": [
        "### Show some image and mask"
      ]
    },
    {
      "cell_type": "code",
      "metadata": {
        "id": "sHHMacAX44rD",
        "colab_type": "code",
        "colab": {}
      },
      "source": [
        "plt.imshow(train_data[3][0].permute(1, 2, 0))"
      ],
      "execution_count": 0,
      "outputs": []
    },
    {
      "cell_type": "code",
      "metadata": {
        "id": "gjbltWGm44rF",
        "colab_type": "code",
        "colab": {}
      },
      "source": [
        "plt.imshow(np.squeeze(train_data[3][1].permute(1, 2, 0)))"
      ],
      "execution_count": 0,
      "outputs": []
    },
    {
      "cell_type": "markdown",
      "metadata": {
        "id": "05aAuTsJ44rH",
        "colab_type": "text"
      },
      "source": [
        "### Models"
      ]
    },
    {
      "cell_type": "markdown",
      "metadata": {
        "id": "_Ip3xbJ-yTYM",
        "colab_type": "text"
      },
      "source": [
        "UNet:"
      ]
    },
    {
      "cell_type": "code",
      "metadata": {
        "id": "fmCEugbZ44rH",
        "colab_type": "code",
        "colab": {}
      },
      "source": [
        "def convrelu(in_channels, out_channels, kernel, padding):\n",
        "    return nn.Sequential(\n",
        "        nn.Conv2d(in_channels, out_channels, kernel, padding=padding),\n",
        "        nn.ReLU(inplace=True),\n",
        "    )\n",
        "\n",
        "class UNet(nn.Module):\n",
        "    def __init__(self, n_class):\n",
        "        super().__init__()\n",
        "        \n",
        "        self.base_model = models.resnet18()\n",
        "        self.base_model.load_state_dict(torch.load(os.path.join(\n",
        "            path, \"resnet18/resnet18.pth\"))\n",
        "        )\n",
        "        self.base_layers = list(self.base_model.children())\n",
        "\n",
        "        self.layer0 = nn.Sequential(*self.base_layers[:3])\n",
        "        self.layer0_1x1 = convrelu(64, 64, 1, 0)\n",
        "        self.layer1 = nn.Sequential(*self.base_layers[3:5])\n",
        "        self.layer1_1x1 = convrelu(64, 64, 1, 0)\n",
        "        self.layer2 = self.base_layers[5]\n",
        "        self.layer2_1x1 = convrelu(128, 128, 1, 0)\n",
        "        self.layer3 = self.base_layers[6]\n",
        "        self.layer3_1x1 = convrelu(256, 256, 1, 0)\n",
        "        self.layer4 = self.base_layers[7]\n",
        "        self.layer4_1x1 = convrelu(512, 512, 1, 0)\n",
        "\n",
        "        self.upsample = nn.Upsample(\n",
        "            scale_factor=2, mode='bilinear', align_corners=True\n",
        "            )\n",
        "\n",
        "        self.conv_up3 = convrelu(256 + 512, 512, 3, 1)\n",
        "        self.conv_up2 = convrelu(128 + 512, 256, 3, 1)\n",
        "        self.conv_up1 = convrelu(64 + 256, 256, 3, 1)\n",
        "        self.conv_up0 = convrelu(64 + 256, 128, 3, 1)\n",
        "\n",
        "        self.conv_original_size0 = convrelu(3, 64, 3, 1)\n",
        "        self.conv_original_size1 = convrelu(64, 64, 3, 1)\n",
        "        self.conv_original_size2 = convrelu(64 + 128, 64, 3, 1)\n",
        "\n",
        "        self.conv_last = nn.Conv2d(64, n_class, 1)\n",
        "\n",
        "    def forward(self, input):\n",
        "        x_original = self.conv_original_size0(input)\n",
        "        x_original = self.conv_original_size1(x_original)\n",
        "\n",
        "        layer0 = self.layer0(input)\n",
        "        layer1 = self.layer1(layer0)\n",
        "        layer2 = self.layer2(layer1)\n",
        "        layer3 = self.layer3(layer2)\n",
        "        layer4 = self.layer4(layer3)\n",
        "\n",
        "        layer4 = self.layer4_1x1(layer4)\n",
        "        x = self.upsample(layer4)\n",
        "        layer3 = self.layer3_1x1(layer3)\n",
        "        x = torch.cat([x, layer3], dim=1)\n",
        "        x = self.conv_up3(x)\n",
        "\n",
        "        x = self.upsample(x)\n",
        "        layer2 = self.layer2_1x1(layer2)\n",
        "        x = torch.cat([x, layer2], dim=1)\n",
        "        x = self.conv_up2(x)\n",
        "\n",
        "        x = self.upsample(x)\n",
        "        layer1 = self.layer1_1x1(layer1)\n",
        "        x = torch.cat([x, layer1], dim=1)\n",
        "        x = self.conv_up1(x)\n",
        "\n",
        "        x = self.upsample(x)\n",
        "        layer0 = self.layer0_1x1(layer0)\n",
        "        x = torch.cat([x, layer0], dim=1)\n",
        "        x = self.conv_up0(x)\n",
        "\n",
        "        x = self.upsample(x)\n",
        "        x = torch.cat([x, x_original], dim=1)\n",
        "        x = self.conv_original_size2(x)\n",
        "\n",
        "        out = self.conv_last(x)\n",
        "\n",
        "        return out"
      ],
      "execution_count": 0,
      "outputs": []
    },
    {
      "cell_type": "markdown",
      "metadata": {
        "id": "dsvExJBQyWU9",
        "colab_type": "text"
      },
      "source": [
        "Simple CNN:"
      ]
    },
    {
      "cell_type": "markdown",
      "metadata": {
        "id": "QTBghQVhyYwn",
        "colab_type": "text"
      },
      "source": [
        "### Train Preparation"
      ]
    },
    {
      "cell_type": "code",
      "metadata": {
        "id": "ShbS55vH44rJ",
        "colab_type": "code",
        "colab": {}
      },
      "source": [
        "model = UNet(n_class=1).cuda()\n",
        "if reload_last_model and os.path.exists(model_save_path):\n",
        "  print(\"Loading model from {}\".format(model_save_path))\n",
        "  model.load_state_dict(torch.load(model_save_path))\n",
        "else:\n",
        "  print(\"Not load model, train from scrath\")\n",
        "criterion = nn.BCEWithLogitsLoss()\n",
        "optimizer = torch.optim.SGD(\n",
        "    model.parameters(), weight_decay=weight_decay, lr = lr, momentum=momentum\n",
        "  )"
      ],
      "execution_count": 0,
      "outputs": []
    },
    {
      "cell_type": "markdown",
      "metadata": {
        "id": "TCb_jX1vnjOr",
        "colab_type": "text"
      },
      "source": [
        "### Define Functions for training eval and test"
      ]
    },
    {
      "cell_type": "markdown",
      "metadata": {
        "id": "GF_n3mWEirMi",
        "colab_type": "text"
      },
      "source": [
        "Get LR value if we use lr decay"
      ]
    },
    {
      "cell_type": "code",
      "metadata": {
        "id": "fcFWxz0HnmWs",
        "colab_type": "code",
        "colab": {}
      },
      "source": [
        "def get_lr(optimizer):\n",
        "    for param_group in optimizer.param_groups:\n",
        "        return param_group['lr']"
      ],
      "execution_count": 0,
      "outputs": []
    },
    {
      "cell_type": "markdown",
      "metadata": {
        "id": "dGrxNrusiuyG",
        "colab_type": "text"
      },
      "source": [
        "Eval Matrics:"
      ]
    },
    {
      "cell_type": "code",
      "metadata": {
        "id": "zzCGiMk8i0ed",
        "colab_type": "code",
        "colab": {}
      },
      "source": [
        "def dice_coefficient(x, y):\n",
        "  \"\"\"\n",
        "  :param X: numpy array\n",
        "  :param y: numpy array\n",
        "  :return: float, dice coefficient for one x, y pair\n",
        "  x, y is mask the preidiction values (mask)\n",
        "  \"\"\"\n",
        "  x = x.reshape(-1, 1)\n",
        "  y = y.reshape(-1, 1)\n",
        "  #print(x.shape)\n",
        "  #print(y.shape)\n",
        "  #print(sum(((x*y) > 0)))\n",
        "  #print(sum((x+y) > 0))\n",
        "  return 2 * sum(((x*y) > 0)) / sum((x+y) > 0)\n"
      ],
      "execution_count": 0,
      "outputs": []
    },
    {
      "cell_type": "markdown",
      "metadata": {
        "id": "n61_D7-VqTI8",
        "colab_type": "text"
      },
      "source": [
        "Inference:"
      ]
    },
    {
      "cell_type": "code",
      "metadata": {
        "id": "9JMFfq4DqWY1",
        "colab_type": "code",
        "colab": {}
      },
      "source": [
        "def predict(model, data_loader, resize=False, out_mask=True):\n",
        "    predict = []\n",
        "    Y = []\n",
        "    model.eval()\n",
        "    print(\"Predicting...\")\n",
        "    with tqdm_notebook(total=len(data_loader.dataset)) as pbar:\n",
        "      total = 0\n",
        "      for data, y in data_loader:\n",
        "        data = data.cuda()\n",
        "        output = model(data)  \n",
        "        output = output.cpu().detach().numpy() * (-1)\n",
        "        predict.append(abs(output[0]))\n",
        "        Y.append(y.numpy().squeeze(axis=0))\n",
        "        pbar.update(len(data))\n",
        "    \n",
        "    pred_rle = []\n",
        "    print(\"Converting Image...\")\n",
        "    with tqdm_notebook(total=len(predict)) as pbar:\n",
        "      for p in predict:        \n",
        "          img = np.copy(p)\n",
        "          mn = np.mean(img)*1.2\n",
        "          img[img<=mn] = 0\n",
        "          img[img>mn] = 1\n",
        "          if resize:\n",
        "            img = cv2.resize(img[0], (1600, 256))\n",
        "          if not out_mask:\n",
        "            img = mask2rle(img)\n",
        "          pred_rle.append(img)\n",
        "          pbar.update(1)\n",
        "    predict = pred_rle\n",
        "    \n",
        "    return predict, Y\n"
      ],
      "execution_count": 0,
      "outputs": []
    },
    {
      "cell_type": "markdown",
      "metadata": {
        "id": "hhEZZeDoyuc4",
        "colab_type": "text"
      },
      "source": [
        "Eval Matrics:"
      ]
    },
    {
      "cell_type": "code",
      "metadata": {
        "id": "u-fQt2Fzs741",
        "colab_type": "code",
        "colab": {}
      },
      "source": [
        "def eval_data_set(model, data_loader, matrics):\n",
        "  result = []\n",
        "  predictions, Y = predict(model, data_loader)\n",
        "  for i, pred in enumerate(predictions):\n",
        "    result.append(matrics(pred, Y[i]))\n",
        "  return np.mean(result)"
      ],
      "execution_count": 0,
      "outputs": []
    },
    {
      "cell_type": "markdown",
      "metadata": {
        "id": "C-X7elt4iiYY",
        "colab_type": "text"
      },
      "source": [
        "Launch Tensorbaord:"
      ]
    },
    {
      "cell_type": "code",
      "metadata": {
        "id": "Fux464zkVfdw",
        "colab_type": "code",
        "colab": {}
      },
      "source": [
        "if clear_tensor_board_history:\n",
        "  shutil.rmtree(\"/content/runs\", ignore_errors=True)\n",
        "  os.mkdir(\"/content/runs\")\n",
        "\n",
        "% load_ext tensorboard\n",
        "% tensorboard --logdir=/content/runs\n",
        "\n",
        "notebook.display(port=6006, weight=1000)"
      ],
      "execution_count": 0,
      "outputs": []
    },
    {
      "cell_type": "markdown",
      "metadata": {
        "id": "CO62PLi344rL",
        "colab_type": "text"
      },
      "source": [
        "### Training"
      ]
    },
    {
      "cell_type": "code",
      "metadata": {
        "id": "9Qxwzvt844rL",
        "colab_type": "code",
        "colab": {}
      },
      "source": [
        "summary_writter = SummaryWriter() # in ./run by default\n",
        "total_it = 0\n",
        "last_eval = 0\n",
        "last_result = 0\n",
        "for epoch in range(total_epochs):      \n",
        "    model.train()\n",
        "    with tqdm_notebook(total=len(train_loader.dataset)) as pbar:       \n",
        "      for it, (data, target) in enumerate(train_loader):                         \n",
        "          data, target = data.cuda(), target.cuda()\n",
        "          optimizer.zero_grad()\n",
        "          output = model(data)\n",
        "          loss = criterion(output, target)\n",
        "          loss.backward()\n",
        "          optimizer.step()\n",
        "          data_len = len(data)\n",
        "          pbar.update(len(data))\n",
        "          pbar.set_postfix(epoch=epoch, loss=loss.item())\n",
        "          total_it += data_len\n",
        "          if (total_it // eval_interval) != last_eval:\n",
        "            result = eval_data_set(model, eval_loader, dice_coefficient)\n",
        "            model.train()\n",
        "            summary_writter.add_scalar(\"MDC/evaluation\", result, total_it)\n",
        "            last_eval = it // eval_interval\n",
        "            print(\"Result = {}\".format(result))\n",
        "            if result > last_result:\n",
        "              print(\"Saving Model...\")\n",
        "              torch.save(model.state_dict(), model_save_path)\n",
        "          summary_writter.add_scalar(\"Loss/train\", loss.item(), total_it)\n",
        "          summary_writter.add_scalar(\"LR/train\", get_lr(optimizer), total_it)\n",
        "          summary_writter.flush()\n",
        "summary_writter.close()"
      ],
      "execution_count": 0,
      "outputs": []
    },
    {
      "cell_type": "markdown",
      "metadata": {
        "id": "JRfUPVnG44rN",
        "colab_type": "text"
      },
      "source": [
        "### Show prediction on image from train dataset"
      ]
    },
    {
      "cell_type": "code",
      "metadata": {
        "id": "sT37cKhy44rO",
        "colab_type": "code",
        "colab": {}
      },
      "source": [
        "plt.imshow(train_data[6][0].permute(1, 2, 0))"
      ],
      "execution_count": 0,
      "outputs": []
    },
    {
      "cell_type": "code",
      "metadata": {
        "id": "7GuiQlC544rP",
        "colab_type": "code",
        "colab": {}
      },
      "source": [
        "x = train_data[6][0].unsqueeze(0)\n",
        "o = model(x.cuda())  \n",
        "o = o.cpu().detach().numpy() * (-1)\n",
        "tmp = np.copy(o)\n",
        "mn = np.mean(o)*1.2\n",
        "tmp[tmp<mn] = 0\n",
        "tmp[tmp>mn] = 1\n",
        "plt.imshow(np.squeeze(tmp))"
      ],
      "execution_count": 0,
      "outputs": []
    },
    {
      "cell_type": "markdown",
      "metadata": {
        "id": "6UK4rUQ844rX",
        "colab_type": "text"
      },
      "source": [
        "### Read submit file"
      ]
    },
    {
      "cell_type": "code",
      "metadata": {
        "id": "c-Wb2Q5O44rY",
        "colab_type": "code",
        "colab": {}
      },
      "source": [
        "submit_test_df = pd.read_csv(path + 'sample_submission.csv', converters={'EncodedPixels': lambda e: ' '})"
      ],
      "execution_count": 0,
      "outputs": []
    },
    {
      "cell_type": "markdown",
      "metadata": {
        "id": "79-bZgng44rb",
        "colab_type": "text"
      },
      "source": [
        "### Create test Dataset and DataLoader"
      ]
    },
    {
      "cell_type": "code",
      "metadata": {
        "id": "Js_s4qsm44rc",
        "colab_type": "code",
        "colab": {}
      },
      "source": [
        "submit_test_data = ImageData(df = submit_test_df, transform = data_transf, subset=\"test\")\n",
        "submit_test_loader = DataLoader(dataset = submit_test_data, shuffle=False)"
      ],
      "execution_count": 0,
      "outputs": []
    },
    {
      "cell_type": "markdown",
      "metadata": {
        "id": "5UPmucpx44rm",
        "colab_type": "text"
      },
      "source": [
        "### Prepare submission file"
      ]
    },
    {
      "cell_type": "code",
      "metadata": {
        "id": "87Cy2KwT44rn",
        "colab_type": "code",
        "colab": {}
      },
      "source": [
        "submit['EncodedPixels'][submit['ImageId_ClassId'].apply(lambda x: x.split('_')[1] == '4')] = pred_rle\n",
        "submit.head()"
      ],
      "execution_count": 0,
      "outputs": []
    },
    {
      "cell_type": "code",
      "metadata": {
        "id": "nQIu_O9-44ro",
        "colab_type": "code",
        "colab": {}
      },
      "source": [
        "img_s = cv2.imread( path + 'test_images/'+ submit['ImageId_ClassId'][47].split('_')[0])\n",
        "plt.imshow(img_s)"
      ],
      "execution_count": 0,
      "outputs": []
    },
    {
      "cell_type": "code",
      "metadata": {
        "id": "TNvKvkvY44rp",
        "colab_type": "code",
        "colab": {}
      },
      "source": [
        "mask_s = rle2mask(submit['EncodedPixels'][47], (256, 1600))\n",
        "plt.imshow(mask_s)"
      ],
      "execution_count": 0,
      "outputs": []
    },
    {
      "cell_type": "code",
      "metadata": {
        "id": "8v1Yv9bk44rr",
        "colab_type": "code",
        "colab": {}
      },
      "source": [
        "submit.head(10)"
      ],
      "execution_count": 0,
      "outputs": []
    },
    {
      "cell_type": "code",
      "metadata": {
        "id": "PNiuIVI244rt",
        "colab_type": "code",
        "colab": {}
      },
      "source": [
        "submit.to_csv('submission.csv', index=False)"
      ],
      "execution_count": 0,
      "outputs": []
    },
    {
      "cell_type": "code",
      "metadata": {
        "id": "20cnWalCNYh_",
        "colab_type": "code",
        "colab": {}
      },
      "source": [
        ""
      ],
      "execution_count": 0,
      "outputs": []
    }
  ]
}